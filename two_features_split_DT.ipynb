{
  "cells": [
    {
      "cell_type": "code",
      "execution_count": 80,
      "metadata": {
        "id": "5oJCvGKXAWf1"
      },
      "outputs": [],
      "source": [
        "import numpy as np\n",
        "import pandas as pd\n",
        "import operator\n",
        "from sklearn.linear_model import LogisticRegression\n",
        "from sklearn.datasets import load_iris\n",
        "from sklearn.datasets import load_digits\n",
        "from sklearn.model_selection import train_test_split\n",
        "from treelib import Node, Tree\n"
      ]
    },
    {
      "cell_type": "code",
      "execution_count": 80,
      "metadata": {
        "id": "RmdyJe7IAWf4"
      },
      "outputs": [],
      "source": []
    },
    {
      "cell_type": "code",
      "execution_count": 81,
      "metadata": {
        "id": "pJQEku55AWf4"
      },
      "outputs": [],
      "source": [
        "class Node:\n",
        "    def __init__(self, name, feature=None, threshold=None, left_child1=None, left_child2=None, right_child1=None, right_child2=None, is_leaf=False, value=-1):\n",
        "        self.feature = feature\n",
        "        self.threshold = threshold\n",
        "        self.left_child1 = left_child1\n",
        "        self.left_child2 = left_child2\n",
        "        self.right_child1 = right_child1\n",
        "        self.right_child2 = right_child2\n",
        "        self.is_leaf = is_leaf\n",
        "        self.value = value\n",
        "        self.name = name\n",
        "    "
      ]
    },
    {
      "cell_type": "code",
      "execution_count": 82,
      "metadata": {
        "id": "5p51j4AzAWf5"
      },
      "outputs": [],
      "source": [
        "class MyDecisionTree:\n",
        "    def __init__(self, min_samples=1):\n",
        "        self.root_node = Node('root')\n",
        "        self.node_count = 0\n",
        "        self.min_samples = min_samples\n",
        "    \n",
        "    def predict(self, X):\n",
        "        \n",
        "        Y_pred = []\n",
        "        for x_i in X:\n",
        "\n",
        "            curr_node = self.root_node\n",
        "            predicted_y = np.array(self.predict_util(x_i, curr_node))\n",
        "            # print(predicted_y)\n",
        "            Y_pred.append(predicted_y)\n",
        "\n",
        "        return np.array(Y_pred)\n",
        "\n",
        "    def predict_util(self, x, curr_node):\n",
        "        \n",
        "        if(curr_node.is_leaf):\n",
        "            return curr_node.value\n",
        "        if x[curr_node.feature[0]] <= curr_node.threshold[0] and x[curr_node.feature[1]] <= curr_node.threshold[1]:\n",
        "            if curr_node.is_leaf:\n",
        "                return curr_node.value\n",
        "            return self.predict_util(x, curr_node.left_child1)\n",
        "\n",
        "        if x[curr_node.feature[0]] > curr_node.threshold[0] and x[curr_node.feature[1]] <= curr_node.threshold[1]:\n",
        "            if curr_node.is_leaf:\n",
        "                return curr_node.value\n",
        "            return self.predict_util(x, curr_node.left_child2)\n",
        "\n",
        "        if x[curr_node.feature[0]] <= curr_node.threshold[0] and x[curr_node.feature[1]] > curr_node.threshold[1]:\n",
        "            if curr_node.is_leaf:\n",
        "                return curr_node.value\n",
        "            return self.predict_util(x, curr_node.right_child1)\n",
        "\n",
        "        elif x[curr_node.feature[0]] > curr_node.threshold[0] and x[curr_node.feature[1]] > curr_node.threshold[1]:\n",
        "            if curr_node.is_leaf:\n",
        "                return curr_node.value\n",
        "            return self.predict_util(x, curr_node.right_child2)\n",
        "\n",
        "    def fit(self, X, Y):\n",
        "        self.fit_util(X, Y, self.root_node)\n",
        "\n",
        "\n",
        "    def fit_util(self, X, Y, current_node):\n",
        "        if np.unique(Y).shape[0] == 1:\n",
        "            current_node.is_leaf = True\n",
        "            unq, counts = np.unique(Y, return_counts=True)\n",
        "            max_freq_idx = np.argmax(counts).flatten()\n",
        "            current_node.value = unq[max_freq_idx].squeeze()\n",
        "            current_node.name = f'leaf {current_node.value} {self.node_count}'\n",
        "            self.node_count += 1\n",
        "            return\n",
        "            \n",
        "        scores = {}\n",
        "        for column1 in X.columns:\n",
        "            for column2 in X.columns:\n",
        "\n",
        "                column = [column1, column2]\n",
        "                X_train = X[column].to_numpy()\n",
        "                X_train = X_train.reshape(X_train.shape[0], 2)\n",
        "                clf = LogisticRegression(random_state=0, max_iter=100)\n",
        "                clf.fit(X_train, Y)\n",
        "                score = clf.score(X_train, Y)\n",
        "                scores[(column1, column2)] = score\n",
        "\n",
        "        scores_sorted = dict( sorted(scores.items(), key=operator.itemgetter(1),reverse=True))\n",
        "        best_feature_set = list(scores_sorted.keys())[0]\n",
        "        best_feature1_values = np.unique(X[best_feature_set[0]])\n",
        "        best_feature2_values = np.unique(X[best_feature_set[1]])\n",
        "\n",
        "        best_feature1_values.sort()\n",
        "        best_feature2_values.sort()\n",
        "\n",
        "        partition = self.get_partition(X, Y, best_feature_set[0], best_feature_set[1], best_feature1_values, best_feature2_values)\n",
        "        \n",
        "        if partition == None:\n",
        "            current_node.is_leaf = True\n",
        "            unq, counts = np.unique(Y, return_counts=True)\n",
        "            max_freq_idx = np.argmax(counts).flatten()\n",
        "            current_node.value = unq[max_freq_idx].squeeze()\n",
        "            current_node.name = f'leaf {current_node.value} {self.node_count}'\n",
        "            self.node_count += 1\n",
        "            return\n",
        "            \n",
        "        (X_left1, Y_left1), (X_left2, Y_left2), (X_right1, Y_right1), (X_right2, Y_right2), threshold1, threshold2 = partition\n",
        "\n",
        "        threshold = [threshold1, threshold2]\n",
        "        # print(\"Thresholds: \",threshold)\n",
        "        current_node.threshold = threshold\n",
        "        current_node.feature = best_feature_set\n",
        "        current_node.name = f'{best_feature_set} {threshold} {self.node_count}'\n",
        "        self.node_count += 1\n",
        "        current_node.left_child1 = Node('unnamed')\n",
        "        current_node.left_child2 = Node('unnamed')\n",
        "        current_node.right_child1 = Node('unnamed')\n",
        "        current_node.right_child2 = Node('unnamed')\n",
        "\n",
        "        if(X_left1.shape[0] == 0):\n",
        "            current_node.left_child1.is_leaf = True\n",
        "            current_node.left_child1.value = 1\n",
        "            current_node.left_child1.name = f'leaf {current_node.left_child1.value} {self.node_count}'\n",
        "            self.node_count+=1 \n",
        "            # return\n",
        "        \n",
        "        if(X_left2.shape[0] == 0):\n",
        "            current_node.left_child2.is_leaf = True\n",
        "            current_node.left_child2.value = 1\n",
        "            current_node.left_child2.name = f'leaf {current_node.left_child2.value} {self.node_count}'\n",
        "            self.node_count+=1 \n",
        "            # return\n",
        "        \n",
        "        if(X_right1.shape[0] == 0):\n",
        "            current_node.right_child1.is_leaf = True\n",
        "            current_node.right_child1.value = 1\n",
        "            current_node.right_child1.name = f'leaf {current_node.right_child1.value} {self.node_count}'\n",
        "            self.node_count+=1   \n",
        "            # return     \n",
        "        \n",
        "        if(X_right2.shape[0] == 0):\n",
        "            current_node.right_child2.is_leaf = True\n",
        "            current_node.right_child2.value = 1\n",
        "            current_node.right_child2.name = f'leaf {current_node.right_child2.value} {self.node_count}'\n",
        "            self.node_count+=1  \n",
        "            # return                  \n",
        "          \n",
        "        if(X_left1.shape[0] != 0):\n",
        "            self.fit_util(X_left1, Y_left1, current_node.left_child1)\n",
        "        \n",
        "        if(X_left2.shape[0] != 0):\n",
        "            self.fit_util(X_left2, Y_left2, current_node.left_child2)\n",
        "        \n",
        "        if(X_right1.shape[0] != 0):\n",
        "            self.fit_util(X_right1, Y_right1, current_node.right_child1)\n",
        "        \n",
        "        if(X_right2.shape[0] != 0):\n",
        "            self.fit_util(X_right2, Y_right2, current_node.right_child2)\n",
        "\n",
        "\n",
        "    def do_split(self, X, thresh):\n",
        "        \"\"\"\n",
        "            Split the data at a node based on threshold\n",
        "        \"\"\"\n",
        "\n",
        "        left_child_ids = np.where(X <= thresh, True, False)\n",
        "        right_child_ids = np.where(X > thresh, True, False)\n",
        "        return left_child_ids, right_child_ids\n",
        "\n",
        "    def do_split_final(self, X1, X2, thresh1, thresh2):\n",
        "\n",
        "        \"\"\"\n",
        "            Split according to the best thresholds for the 2 features\n",
        "        \"\"\"   \n",
        "\n",
        "        left1_ids = np.where(np.logical_and(X1 <= thresh1, X2 <= thresh2), True, False)\n",
        "        left2_ids = np.where(np.logical_and(X1 > thresh1, X2 <= thresh2), True, False)\n",
        "        right1_ids = np.where(np.logical_and(X1 <= thresh1, X2 > thresh2), True, False)\n",
        "        right2_ids = np.where(np.logical_and(X1 > thresh1, X2 > thresh2), True, False)\n",
        "\n",
        "        return left1_ids, left2_ids, right1_ids, right2_ids\n",
        "\n",
        "    def find_entropy(self, Y):\n",
        "        probs = []\n",
        "        possible_classes, counts = np.unique(Y, return_counts=True)\n",
        "        sort_indices = np.argsort(possible_classes)\n",
        "        possible_classes = possible_classes[sort_indices]\n",
        "        counts = counts[sort_indices]\n",
        "        \n",
        "        for class_label, count in zip(possible_classes, counts):\n",
        "            probs.append(count/Y.shape[0])\n",
        "        \n",
        "        entropy = 0\n",
        "        for prob in probs:\n",
        "            entropy -= prob*np.log2(prob)\n",
        "        \n",
        "        return entropy\n",
        "    \n",
        "    def find_best_thresh_info_gain(self, thresholds1, thresholds2, X, Y, feature1, feature2):\n",
        "        \"\"\"\n",
        "            This function finds the best threshold and info gain for a given feature\n",
        "        \"\"\"\n",
        "        best_info_gain = -float('inf')\n",
        "        best_thresh1 = thresholds1[0]   \n",
        "        best_thresh2 = thresholds2[0]     \n",
        "        for thresh1 in thresholds1[:-1]:\n",
        "            for thresh2 in thresholds2[:-1]:\n",
        "\n",
        "                left_child1_ids, left_child2_ids,  right_child1_ids, right_child2_ids = self.do_split_final(X[feature1].to_numpy(),X[feature2].to_numpy(), thresh1, thresh2)\n",
        "\n",
        "                parent_pts = X.shape[0]\n",
        "                left_child1_pts = len(left_child1_ids)\n",
        "                left_child2_pts = len(left_child2_ids)\n",
        "                right_child1_pts = len(right_child1_ids)\n",
        "                right_child2_pts = len(right_child2_ids)\n",
        "\n",
        "                info_gain = self.find_entropy(Y) - (left_child1_pts / parent_pts) * self.find_entropy(Y[left_child1_ids]) - (left_child2_pts / parent_pts) * self.find_entropy(Y[left_child2_ids]) - (right_child1_pts / parent_pts) * self.find_entropy(Y[right_child1_ids]) - (right_child2_pts / parent_pts) * self.find_entropy(Y[right_child2_ids])\n",
        "                \n",
        "                if(info_gain > best_info_gain):\n",
        "\n",
        "                    best_info_gain = info_gain\n",
        "                    best_thresh1 = thresh1\n",
        "                    best_thresh2 = thresh2\n",
        "\n",
        "        \n",
        "        return best_thresh1, best_thresh2, best_info_gain\n",
        "\n",
        "    def get_partition(self, X, Y, feature1, feature2, thresholds1, thresholds2):\n",
        "        '''\n",
        "            This function should return left and right\n",
        "            partitions according to appropritate\n",
        "            partitioning algorithm. Return None if all\n",
        "            data has same label\n",
        "        '''\n",
        "        \n",
        "        # if only 1 class available at a node OR MIN_SAMPLES left at a node - Leaf Node reached\n",
        "        if(len(Y) < self.min_samples):\n",
        "            return None\n",
        "        \n",
        "        best_thresh1, best_thresh2, best_info_gain = self.find_best_thresh_info_gain(thresholds1, thresholds2, X, Y, feature1, feature2)\n",
        "\n",
        "        # partition according to best threshold\n",
        "        best_left_ids1, best_left_ids2, best_right_ids1, best_right_ids2 = self.do_split_final(X[feature1].to_numpy(), X[feature2].to_numpy(), best_thresh1, best_thresh2)\n",
        "\n",
        "        # print(len(Y[best_left_ids1]), len(Y[best_left_ids2]), len(Y[best_right_ids1]) , len(Y[best_right_ids2]))\n",
        "\n",
        "        count_0 = 0\n",
        "        if(len(Y[best_left_ids1]) == 0):\n",
        "            count_0 += 1\n",
        "        if(len(Y[best_left_ids2]) == 0):\n",
        "            count_0 += 1\n",
        "        if(len(Y[best_right_ids1]) == 0):\n",
        "            count_0 += 1\n",
        "        if(len(Y[best_right_ids2]) == 0):\n",
        "            count_0 += 1\n",
        "\n",
        "        if(count_0 == 3):\n",
        "            print(len(Y[best_left_ids1]), len(Y[best_left_ids2]), len(Y[best_right_ids1]) , len(Y[best_right_ids2]))\n",
        "            return None\n",
        "\n",
        "        return (X[best_left_ids1], Y[best_left_ids1]), (X[best_left_ids2], Y[best_left_ids2]), (X[best_right_ids1], Y[best_right_ids1]),(X[best_right_ids2], Y[best_right_ids2]), best_thresh1, best_thresh2    \n",
        "    \n",
        "    def print_tree(self):\n",
        "        tree = Tree()\n",
        "        self.print_tree_util(self.root_node, tree)\n",
        "        tree.show()\n",
        "        return tree\n",
        "\n",
        "    def print_tree_util(self, root, tree, parent=None):\n",
        "        if parent is not None:\n",
        "            print(root.name)\n",
        "            tree.create_node(root.name, root.name, parent=parent.name)\n",
        "        else:\n",
        "            print(root.name)\n",
        "            tree.create_node(root.name, root.name)\n",
        "        if root.is_leaf:\n",
        "            return\n",
        "        self.print_tree_util(root.left_child1, tree, root)\n",
        "        self.print_tree_util(root.left_child2, tree, root)\n",
        "        self.print_tree_util(root.right_child1, tree, root)\n",
        "        self.print_tree_util(root.right_child2, tree, root)\n"
      ]
    },
    {
      "cell_type": "code",
      "execution_count": 82,
      "metadata": {
        "id": "7usULr-ZAWf8"
      },
      "outputs": [],
      "source": []
    },
    {
      "cell_type": "code",
      "execution_count": 83,
      "metadata": {
        "colab": {
          "base_uri": "https://localhost:8080/"
        },
        "id": "FEq6L7lDAWf9",
        "outputId": "70fb9a41-6c56-43a7-8aaa-ff56d76931e6"
      },
      "outputs": [
        {
          "output_type": "stream",
          "name": "stdout",
          "text": [
            "(120, 4)\n",
            "(30, 4)\n"
          ]
        }
      ],
      "source": [
        "iris = load_iris()\n",
        "X_iris, Y_iris = iris.data, iris.target\n",
        "X_iris_train,X_iris_test,Y_iris_train,Y_iris_test=train_test_split(X_iris,Y_iris,test_size=0.2,random_state=42)\n",
        "X_iris_train = pd.DataFrame(X_iris_train)\n",
        "X_iris_test = pd.DataFrame(X_iris_test)\n",
        "\n",
        "print(X_iris_train.shape)\n",
        "print(X_iris_test.shape)\n",
        "\n",
        "# X_iris = pd.DataFrame(X_iris)\n",
        "# print(X_iris.shape)"
      ]
    },
    {
      "cell_type": "code",
      "execution_count": 84,
      "metadata": {
        "colab": {
          "base_uri": "https://localhost:8080/"
        },
        "id": "febiOxhUAWf-",
        "outputId": "8ea29b77-a8c2-4312-ae26-d929c7d5ff82"
      },
      "outputs": [
        {
          "output_type": "stream",
          "name": "stdout",
          "text": [
            "(2, 3) [1.9, 1.7] 0\n",
            "leaf 0 2\n",
            "leaf 1 3\n",
            "leaf 1 1\n",
            "leaf 2 4\n",
            "(2, 3) [1.9, 1.7] 0\n",
            "├── leaf 0 2\n",
            "├── leaf 1 1\n",
            "├── leaf 1 3\n",
            "└── leaf 2 4\n",
            "\n"
          ]
        }
      ],
      "source": [
        "dt_iris = MyDecisionTree(min_samples=110)\n",
        "dt_iris.fit(X_iris_train, Y_iris_train)\n",
        "tree = dt_iris.print_tree()"
      ]
    },
    {
      "cell_type": "code",
      "execution_count": 85,
      "metadata": {
        "colab": {
          "base_uri": "https://localhost:8080/"
        },
        "id": "WxUPljgDAWf_",
        "outputId": "75095648-b77d-45ff-883f-35f6ee41d340"
      },
      "outputs": [
        {
          "output_type": "stream",
          "name": "stdout",
          "text": [
            "digraph tree {\n",
            "\t\"(2, 3) [1.9, 1.7] 0\" [label=\"(2, 3) [1.9, 1.7] 0\", shape=circle]\n",
            "\t\"leaf 0 2\" [label=\"leaf 0 2\", shape=circle]\n",
            "\t\"leaf 1 1\" [label=\"leaf 1 1\", shape=circle]\n",
            "\t\"leaf 1 3\" [label=\"leaf 1 3\", shape=circle]\n",
            "\t\"leaf 2 4\" [label=\"leaf 2 4\", shape=circle]\n",
            "\n",
            "\t\"(2, 3) [1.9, 1.7] 0\" -> \"leaf 0 2\"\n",
            "\t\"(2, 3) [1.9, 1.7] 0\" -> \"leaf 1 3\"\n",
            "\t\"(2, 3) [1.9, 1.7] 0\" -> \"leaf 1 1\"\n",
            "\t\"(2, 3) [1.9, 1.7] 0\" -> \"leaf 2 4\"\n",
            "}\n"
          ]
        }
      ],
      "source": [
        "tree.to_graphviz() "
      ]
    },
    {
      "cell_type": "code",
      "execution_count": 86,
      "metadata": {
        "id": "z1Fzly_RAWf_"
      },
      "outputs": [],
      "source": [
        "pred_Y = dt_iris.predict(X_iris_test.to_numpy())    "
      ]
    },
    {
      "cell_type": "code",
      "execution_count": 87,
      "metadata": {
        "colab": {
          "base_uri": "https://localhost:8080/"
        },
        "id": "tOgujGX7AWgA",
        "outputId": "ec033771-6da1-492b-ba20-49f2a66942fc"
      },
      "outputs": [
        {
          "output_type": "stream",
          "name": "stdout",
          "text": [
            "[1 0 2 1 1 0 1 2 1 1 2 0 0 0 0 1 2 1 1 2 0 2 0 2 2 2 2 2 0 0] [1 0 2 1 1 0 1 2 1 1 2 0 0 0 0 1 2 1 1 2 0 2 0 2 2 2 2 2 0 0]\n"
          ]
        }
      ],
      "source": [
        "print(pred_Y, Y_iris_test)"
      ]
    },
    {
      "cell_type": "code",
      "execution_count": 88,
      "metadata": {
        "colab": {
          "base_uri": "https://localhost:8080/"
        },
        "id": "taxbhC0JAWgA",
        "outputId": "20379062-6204-4f73-b71d-dd8ab7c6d925"
      },
      "outputs": [
        {
          "output_type": "execute_result",
          "data": {
            "text/plain": [
              "100.0"
            ]
          },
          "metadata": {},
          "execution_count": 88
        }
      ],
      "source": [
        "accuracy = (sum(1 for x,y in zip(pred_Y, Y_iris_test) if x == y) / len(pred_Y))*100\n",
        "accuracy"
      ]
    },
    {
      "cell_type": "code",
      "source": [
        "digits = load_digits()\n",
        "X_digits, Y_digits = digits.data, digits.target\n",
        "X_digits = X_digits/255\n",
        "X_digits_train,X_digits_test,Y_digits_train,Y_digits_test=train_test_split(X_digits,Y_digits,test_size=0.2,random_state=42)\n",
        "X_digits_train = pd.DataFrame(X_digits_train)\n",
        "X_digits_test = pd.DataFrame(X_digits_test)\n",
        "\n",
        "print(X_digits_train.shape)\n",
        "print(X_digits_test.shape)\n",
        "\n",
        "# X_iris = pd.DataFrame(X_iris)\n",
        "# print(X_iris.shape)"
      ],
      "metadata": {
        "colab": {
          "base_uri": "https://localhost:8080/"
        },
        "id": "SXI_bD3yJ1kG",
        "outputId": "4a68ad85-f1f2-44be-9223-594f7de05da8"
      },
      "execution_count": 89,
      "outputs": [
        {
          "output_type": "stream",
          "name": "stdout",
          "text": [
            "(1437, 64)\n",
            "(360, 64)\n"
          ]
        }
      ]
    },
    {
      "cell_type": "code",
      "source": [
        "dt_digits = MyDecisionTree(min_samples=1)\n",
        "dt_digits.fit(X_digits_train, Y_digits_train)\n",
        "tree = dt_digits.print_tree()"
      ],
      "metadata": {
        "colab": {
          "base_uri": "https://localhost:8080/"
        },
        "id": "FWfLDmLsJ4Gd",
        "outputId": "9648b4b0-16f4-4012-d524-8c9613c21bc9"
      },
      "execution_count": 90,
      "outputs": [
        {
          "output_type": "stream",
          "name": "stdout",
          "text": [
            "290 0 0 0\n",
            "71 0 0 0\n",
            "110 0 0 0\n",
            "500 0 0 0\n",
            "236 0 0 0\n",
            "6 0 0 0\n",
            "91 0 0 0\n",
            "94 0 0 0\n",
            "(21, 42) [0.0, 0.058823529411764705] 0\n",
            "leaf 5 1\n",
            "(30, 60) [0.054901960784313725, 0.0] 2\n",
            "leaf 7 4\n",
            "leaf 1 3\n",
            "(28, 36) [0.0, 0.058823529411764705] 5\n",
            "leaf 0 6\n",
            "leaf 9 7\n",
            "leaf 7 8\n",
            "leaf 1 9\n",
            "leaf 4 10\n",
            "leaf 6 11\n",
            "(36, 36) [0.0, 0.0] 12\n",
            "leaf 0 15\n",
            "leaf 1 13\n",
            "leaf 1 14\n",
            "leaf 4 16\n",
            "(21, 42) [0.0, 0.058823529411764705] 0\n",
            "├── (30, 60) [0.054901960784313725, 0.0] 2\n",
            "│   ├── (28, 36) [0.0, 0.058823529411764705] 5\n",
            "│   │   ├── leaf 0 6\n",
            "│   │   ├── leaf 1 9\n",
            "│   │   ├── leaf 7 8\n",
            "│   │   └── leaf 9 7\n",
            "│   ├── leaf 1 3\n",
            "│   ├── leaf 4 10\n",
            "│   └── leaf 7 4\n",
            "├── (36, 36) [0.0, 0.0] 12\n",
            "│   ├── leaf 0 15\n",
            "│   ├── leaf 1 13\n",
            "│   ├── leaf 1 14\n",
            "│   └── leaf 4 16\n",
            "├── leaf 5 1\n",
            "└── leaf 6 11\n",
            "\n"
          ]
        }
      ]
    },
    {
      "cell_type": "code",
      "source": [
        "tree.to_graphviz()"
      ],
      "metadata": {
        "colab": {
          "base_uri": "https://localhost:8080/"
        },
        "id": "T1jbUJe-M5TL",
        "outputId": "32236e20-486d-451e-a4aa-268f3bb19053"
      },
      "execution_count": 92,
      "outputs": [
        {
          "output_type": "stream",
          "name": "stdout",
          "text": [
            "digraph tree {\n",
            "\t\"(21, 42) [0.0, 0.058823529411764705] 0\" [label=\"(21, 42) [0.0, 0.058823529411764705] 0\", shape=circle]\n",
            "\t\"(30, 60) [0.054901960784313725, 0.0] 2\" [label=\"(30, 60) [0.054901960784313725, 0.0] 2\", shape=circle]\n",
            "\t\"(36, 36) [0.0, 0.0] 12\" [label=\"(36, 36) [0.0, 0.0] 12\", shape=circle]\n",
            "\t\"leaf 5 1\" [label=\"leaf 5 1\", shape=circle]\n",
            "\t\"leaf 6 11\" [label=\"leaf 6 11\", shape=circle]\n",
            "\t\"(28, 36) [0.0, 0.058823529411764705] 5\" [label=\"(28, 36) [0.0, 0.058823529411764705] 5\", shape=circle]\n",
            "\t\"leaf 1 3\" [label=\"leaf 1 3\", shape=circle]\n",
            "\t\"leaf 4 10\" [label=\"leaf 4 10\", shape=circle]\n",
            "\t\"leaf 7 4\" [label=\"leaf 7 4\", shape=circle]\n",
            "\t\"leaf 0 15\" [label=\"leaf 0 15\", shape=circle]\n",
            "\t\"leaf 1 13\" [label=\"leaf 1 13\", shape=circle]\n",
            "\t\"leaf 1 14\" [label=\"leaf 1 14\", shape=circle]\n",
            "\t\"leaf 4 16\" [label=\"leaf 4 16\", shape=circle]\n",
            "\t\"leaf 0 6\" [label=\"leaf 0 6\", shape=circle]\n",
            "\t\"leaf 1 9\" [label=\"leaf 1 9\", shape=circle]\n",
            "\t\"leaf 7 8\" [label=\"leaf 7 8\", shape=circle]\n",
            "\t\"leaf 9 7\" [label=\"leaf 9 7\", shape=circle]\n",
            "\n",
            "\t\"(21, 42) [0.0, 0.058823529411764705] 0\" -> \"leaf 5 1\"\n",
            "\t\"(21, 42) [0.0, 0.058823529411764705] 0\" -> \"(30, 60) [0.054901960784313725, 0.0] 2\"\n",
            "\t\"(21, 42) [0.0, 0.058823529411764705] 0\" -> \"leaf 6 11\"\n",
            "\t\"(21, 42) [0.0, 0.058823529411764705] 0\" -> \"(36, 36) [0.0, 0.0] 12\"\n",
            "\t\"(30, 60) [0.054901960784313725, 0.0] 2\" -> \"leaf 7 4\"\n",
            "\t\"(30, 60) [0.054901960784313725, 0.0] 2\" -> \"leaf 1 3\"\n",
            "\t\"(30, 60) [0.054901960784313725, 0.0] 2\" -> \"(28, 36) [0.0, 0.058823529411764705] 5\"\n",
            "\t\"(30, 60) [0.054901960784313725, 0.0] 2\" -> \"leaf 4 10\"\n",
            "\t\"(36, 36) [0.0, 0.0] 12\" -> \"leaf 0 15\"\n",
            "\t\"(36, 36) [0.0, 0.0] 12\" -> \"leaf 1 13\"\n",
            "\t\"(36, 36) [0.0, 0.0] 12\" -> \"leaf 1 14\"\n",
            "\t\"(36, 36) [0.0, 0.0] 12\" -> \"leaf 4 16\"\n",
            "\t\"(28, 36) [0.0, 0.058823529411764705] 5\" -> \"leaf 0 6\"\n",
            "\t\"(28, 36) [0.0, 0.058823529411764705] 5\" -> \"leaf 9 7\"\n",
            "\t\"(28, 36) [0.0, 0.058823529411764705] 5\" -> \"leaf 7 8\"\n",
            "\t\"(28, 36) [0.0, 0.058823529411764705] 5\" -> \"leaf 1 9\"\n",
            "}\n"
          ]
        }
      ]
    },
    {
      "cell_type": "code",
      "source": [
        "pred_y_digits = dt_digits.predict(X_digits_test.to_numpy()).squeeze()\n",
        "# print(pred_y_digits)\n",
        "\n",
        "accuracy = (pred_y_digits == Y_digits_test).sum() / Y_digits_test.shape[0]\n",
        "print(accuracy)"
      ],
      "metadata": {
        "colab": {
          "base_uri": "https://localhost:8080/"
        },
        "id": "z7isM0SHJ74H",
        "outputId": "7bfb7f86-b67f-485d-f9fb-377a7633b5e5"
      },
      "execution_count": 91,
      "outputs": [
        {
          "output_type": "stream",
          "name": "stdout",
          "text": [
            "0.4722222222222222\n"
          ]
        }
      ]
    }
  ],
  "metadata": {
    "kernelspec": {
      "display_name": "Python 3.9.13 64-bit (microsoft store)",
      "language": "python",
      "name": "python3"
    },
    "language_info": {
      "codemirror_mode": {
        "name": "ipython",
        "version": 3
      },
      "file_extension": ".py",
      "mimetype": "text/x-python",
      "name": "python",
      "nbconvert_exporter": "python",
      "pygments_lexer": "ipython3",
      "version": "3.9.13"
    },
    "orig_nbformat": 4,
    "vscode": {
      "interpreter": {
        "hash": "970a2a4939579a4c22872227820a264ec023ee5692739211cbaca24386397975"
      }
    },
    "colab": {
      "provenance": [],
      "collapsed_sections": []
    }
  },
  "nbformat": 4,
  "nbformat_minor": 0
}