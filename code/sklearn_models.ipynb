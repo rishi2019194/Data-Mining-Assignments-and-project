{
 "cells": [
  {
   "cell_type": "code",
   "execution_count": null,
   "metadata": {},
   "outputs": [],
   "source": [
    "import numpy as np\n",
    "import pandas as pd\n",
    "import matplotlib.pyplot as plt\n",
    "from sklearn.tree import DecisionTreeClassifier\n",
    "import pickle\n",
    "from sklearn.metrics import accuracy_score\n",
    "from sklearn.metrics import precision_score\n",
    "from sklearn.metrics import recall_score\n",
    "from sklearn.metrics import f1_score\n",
    "from sklearn import tree\n",
    "plt.rcParams[\"figure.figsize\"] = (30,10)\n",
    "plt.figure(dpi=2400)"
   ]
  },
  {
   "cell_type": "code",
   "execution_count": null,
   "metadata": {},
   "outputs": [],
   "source": [
    "dataset1 = pd.read_csv(\"../data/preprocessed-data/dataset1.csv\")\n",
    "y_dataset1 = np.array(dataset1['Biopsy'])\n",
    "dataset1 = dataset1.drop(columns=['Unnamed: 0', 'Biopsy'], axis=1)\n",
    "dataset1\n",
    "\n",
    "\n"
   ]
  },
  {
   "cell_type": "code",
   "execution_count": null,
   "metadata": {},
   "outputs": [],
   "source": [
    "dataset2 = pd.read_csv(\"../data/preprocessed-data/fetal.csv\")\n",
    "y_dataset2 = np.array(dataset2['fetal_health'])\n",
    "dataset2 = dataset2.drop(columns=['Unnamed: 0', 'fetal_health'], axis=1)\n",
    "dataset2\n"
   ]
  },
  {
   "cell_type": "code",
   "execution_count": null,
   "metadata": {},
   "outputs": [],
   "source": [
    "dataset3 = pd.read_csv(\"../data/preprocessed-data/dataset3.csv\")\n",
    "y_dataset3 = np.array(dataset3['y'])\n",
    "dataset3= dataset3.drop(columns=['Unnamed: 0', 'y'], axis=1)\n",
    "dataset3\n"
   ]
  },
  {
   "cell_type": "code",
   "execution_count": null,
   "metadata": {},
   "outputs": [],
   "source": [
    "clf1 = DecisionTreeClassifier(criterion=\"entropy\", max_depth=5)\n",
    "clf1.fit(X=dataset1, y=y_dataset1)\n",
    "prediction_dataset1 = clf1.predict(X=dataset1)\n",
    "\n",
    "print(\"accuracy =\",accuracy_score(y_dataset1, prediction_dataset1))\n",
    "print(\"precision =\", precision_score(y_dataset1, prediction_dataset1))\n",
    "\n",
    "print(\"recall =\", recall_score(y_dataset1, prediction_dataset1))\n",
    "print(\"f1_score =\", f1_score(y_dataset1, prediction_dataset1))\n"
   ]
  },
  {
   "cell_type": "code",
   "execution_count": null,
   "metadata": {},
   "outputs": [],
   "source": [
    "pickle.dump(clf1, open('../models/Data1/sklearn/Model.pkl', 'wb'))"
   ]
  },
  {
   "cell_type": "code",
   "execution_count": null,
   "metadata": {},
   "outputs": [],
   "source": [
    "tree.plot_tree(clf1)\n",
    "plt.show()"
   ]
  },
  {
   "cell_type": "code",
   "execution_count": null,
   "metadata": {},
   "outputs": [],
   "source": [
    "clf2 = DecisionTreeClassifier(criterion=\"entropy\", max_depth=10)\n",
    "clf2.fit(X=dataset2, y=y_dataset2)\n",
    "prediction_dataset2 = clf2.predict(X=dataset2)\n",
    "\n",
    "print(\"accuracy = \", accuracy_score(y_dataset2, prediction_dataset2))\n",
    "print(\"precision = \", precision_score(y_dataset2, prediction_dataset2, average=\"macro\"))\n",
    "\n",
    "print(\"recall = \", recall_score(y_dataset2, prediction_dataset2, average=\"macro\"))\n",
    "print(\"f1_score = \", f1_score(y_dataset2, prediction_dataset2, average=\"macro\"))"
   ]
  },
  {
   "cell_type": "code",
   "execution_count": null,
   "metadata": {},
   "outputs": [],
   "source": [
    "pickle.dump(clf2, open('../models/Data2/sklearn/Model.pkl', 'wb'))"
   ]
  },
  {
   "cell_type": "code",
   "execution_count": null,
   "metadata": {},
   "outputs": [],
   "source": [
    "plt.rcParams[\"figure.figsize\"] = (150,80)\n",
    "tree.plot_tree(clf2, fontsize=20)\n",
    "plt.show()"
   ]
  },
  {
   "cell_type": "code",
   "execution_count": null,
   "metadata": {},
   "outputs": [],
   "source": [
    "clf3 = DecisionTreeClassifier(criterion=\"entropy\", max_depth=5)\n",
    "clf3.fit(X=dataset3, y=y_dataset3)\n",
    "prediction_dataset3 = clf3.predict(X=dataset3)\n",
    "\n",
    "print(\"accuracy = \", accuracy_score(y_dataset3, prediction_dataset3))\n",
    "print(\"precision = \", precision_score(y_dataset3, prediction_dataset3))\n",
    "\n",
    "print(\"recall = \", recall_score(y_dataset3, prediction_dataset3))\n",
    "print(\"f1_score = \", f1_score(y_dataset3, prediction_dataset3))"
   ]
  },
  {
   "cell_type": "code",
   "execution_count": null,
   "metadata": {},
   "outputs": [],
   "source": [
    "pickle.dump(clf3, open('../models/Data3/sklearn/Model.pkl', 'wb'))"
   ]
  },
  {
   "cell_type": "code",
   "execution_count": null,
   "metadata": {},
   "outputs": [],
   "source": [
    "plt.rcParams[\"figure.figsize\"] = (50,30)\n",
    "tree.plot_tree(clf3, fontsize=10)\n",
    "plt.show()"
   ]
  }
 ],
 "metadata": {
  "kernelspec": {
   "display_name": "Python 3.9.7 ('computer_vision')",
   "language": "python",
   "name": "python3"
  },
  "language_info": {
   "codemirror_mode": {
    "name": "ipython",
    "version": 3
   },
   "file_extension": ".py",
   "mimetype": "text/x-python",
   "name": "python",
   "nbconvert_exporter": "python",
   "pygments_lexer": "ipython3",
   "version": "3.9.7"
  },
  "orig_nbformat": 4,
  "vscode": {
   "interpreter": {
    "hash": "85b1db67202a22c0164e18849e85225c385668d55f66b602110c77d4fc6f23f4"
   }
  }
 },
 "nbformat": 4,
 "nbformat_minor": 2
}
